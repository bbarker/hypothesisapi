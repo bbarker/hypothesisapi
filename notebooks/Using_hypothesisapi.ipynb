{
 "cells": [
  {
   "cell_type": "code",
   "execution_count": 1,
   "metadata": {
    "collapsed": false
   },
   "outputs": [],
   "source": [
    "# package up logic in a package\n",
    "from hypothesisapi import API\n",
    "\n",
    "# include your hypothes.is USERNAME, PASSWORD as parameters in a hypothesis_settings.py file in your sys.path\n",
    "from hypothesis_settings import USERNAME, PASSWORD\n",
    "\n",
    "h_api = API(USERNAME,PASSWORD)\n",
    "h_api.login()"
   ]
  },
  {
   "cell_type": "code",
   "execution_count": 10,
   "metadata": {
    "collapsed": false
   },
   "outputs": [
    {
     "data": {
      "text/plain": [
       "{'rows': [{'consumer': '00000000-0000-0000-0000-000000000000',\n",
       "   'created': '2015-04-24T23:45:10.559556+00:00',\n",
       "   'document': {'dc': {},\n",
       "    'eprints': {},\n",
       "    'facebook': {'country-name': ['us'],\n",
       "     'image': ['http://photos4.meetupstatic.com/photos/event/9/6/b/6/highres_216098582.jpeg'],\n",
       "     'latitude': ['37.79'],\n",
       "     'locality': ['San Francisco'],\n",
       "     'longitude': ['-122.4'],\n",
       "     'postal-code': ['94105'],\n",
       "     'region': ['CA'],\n",
       "     'site_name': ['Meetup'],\n",
       "     'title': ['SF Open Annotation Meetup'],\n",
       "     'type': ['activity']},\n",
       "    'highwire': {},\n",
       "    'link': [{'href': 'https://via.hypothes.is/http://www.meetup.com/SFOpenAnnotation/events/221577503/'},\n",
       "     {'href': 'http://www.meetup.com/SFOpenAnnotation/events/221577503/',\n",
       "      'rel': 'canonical',\n",
       "      'type': ''},\n",
       "     {'href': 'http://www.meetup.com/SFOpenAnnotation/events/221577503/',\n",
       "      'rel': 'canonical',\n",
       "      'type': ''}],\n",
       "    'prism': {},\n",
       "    'title': 'SF Open Annotation Meetup',\n",
       "    'twitter': {'app:id:googleplay': ['com.meetup'],\n",
       "     'app:id:iphone': ['375990038'],\n",
       "     'app:name:googleplay': ['Meetup'],\n",
       "     'app:name:iphone': ['Meetup'],\n",
       "     'app:url:googleplay': ['http://www.meetup.com/SFOpenAnnotation/events/221577503/'],\n",
       "     'app:url:iphone': ['meetup://events/221577503'],\n",
       "     'card': [''],\n",
       "     'description': [\"If you've got an annotation project—no matter what technology you're using!—we'd love to have you join us on April 25th &amp; 26th at the Fort Mason Center.\\nIf you've got an annotation project and are\"],\n",
       "     'site': [''],\n",
       "     'url': ['http://www.meetup.com/SFOpenAnnotation/events/221577503/']}},\n",
       "   'id': '8qXlSF8gTQmeh29v1XoErg',\n",
       "   'permissions': {'admin': ['acct:rdhyee@hypothes.is'],\n",
       "    'delete': ['acct:rdhyee@hypothes.is'],\n",
       "    'read': ['group:__world__'],\n",
       "    'update': ['acct:rdhyee@hypothes.is']},\n",
       "   'tags': ['hypothes.is'],\n",
       "   'target': [{'pos': {'height': 41, 'top': 679.1875},\n",
       "     'selector': [{'endContainer': '/div[3]/div[1]/div[2]/div[1]/div[1]/div[1]/div[1]/div[1]/div[3]/ul[1]/li[3]/div[1]/p[1]',\n",
       "       'endOffset': 152,\n",
       "       'startContainer': '/div[3]/div[1]/div[2]/div[1]/div[1]/div[1]/div[1]/div[1]/div[3]/ul[1]/li[3]/div[1]/p[1]',\n",
       "       'startOffset': 0,\n",
       "       'type': 'RangeSelector'},\n",
       "      {'exact': \"If you've got an annotation project—no matter what technology you're using!—we'd love to have you join us on April 25th & 26th at the Fort Mason Center.\",\n",
       "       'type': 'TextQuoteSelector'},\n",
       "      {'type': 'FragmentSelector', 'value': ''}],\n",
       "     'source': 'https://via.hypothes.is/http://www.meetup.com/SFOpenAnnotation/events/221577503/'}],\n",
       "   'text': \"I'm curious what annotation technologies will be represented at the Dev Hack-Meet this weekend.\",\n",
       "   'updated': '2015-04-24T23:45:47.258286+00:00',\n",
       "   'uri': 'https://via.hypothes.is/http://www.meetup.com/SFOpenAnnotation/events/221577503/',\n",
       "   'user': 'acct:rdhyee@hypothes.is'}],\n",
       " 'total': 1}"
      ]
     },
     "execution_count": 10,
     "metadata": {},
     "output_type": "execute_result"
    }
   ],
   "source": [
    "# https://hypothes.is/a/8qXlSF8gTQmeh29v1XoErg\n",
    "# https://via.hypothes.is/http://www.meetup.com/SFOpenAnnotation/events/221577503/\n",
    "# http://www.meetup.com/SFOpenAnnotation/events/221577503/\n",
    "# http://www.webcitation.org/6Y2WtcAUJ\n",
    "\n",
    "annotation_id = \"8qXlSF8gTQmeh29v1XoErg\"\n",
    "rows = h_api.search_id(annotation_id)\n",
    "rows"
   ]
  },
  {
   "cell_type": "code",
   "execution_count": 3,
   "metadata": {
    "collapsed": false
   },
   "outputs": [
    {
     "data": {
      "text/plain": [
       "Counter({'uri': 210, 'created': 210, 'user': 210, 'updated': 210, 'permissions': 210, 'consumer': 210, 'id': 210, 'target': 203, 'ranges': 133, 'text': 96, 'tags': 71, 'document': 40, 'references': 9})"
      ]
     },
     "execution_count": 3,
     "metadata": {},
     "output_type": "execute_result"
    }
   ],
   "source": [
    "# Looking for the type of data fields in the annotations. (here: For rdhyee as rdhyee)\n",
    "\n",
    "from itertools import islice\n",
    "from collections import Counter\n",
    "\n",
    "key_count = Counter()\n",
    "\n",
    "for (i,row) in enumerate(islice(h_api.search(user='rdhyee', offset=0),None)):\n",
    "    key_count.update(row.keys())\n",
    "\n",
    "key_count"
   ]
  },
  {
   "cell_type": "markdown",
   "metadata": {
    "collapsed": true
   },
   "source": [
    "# Annotations\n",
    "\n",
    "Keys that seem to be present in all annotations:\n",
    "\n",
    "* id\n",
    "* created\n",
    "* updated\n",
    "* uri\n",
    "* permissions\n",
    "* user\n",
    "* consumer"
   ]
  },
  {
   "cell_type": "code",
   "execution_count": 17,
   "metadata": {
    "collapsed": false
   },
   "outputs": [
    {
     "data": {
      "text/plain": [
       "('8qXlSF8gTQmeh29v1XoErg',\n",
       " '2015-04-24T23:45:10.559556+00:00',\n",
       " '2015-04-24T23:45:47.258286+00:00',\n",
       " 'https://via.hypothes.is/http://www.meetup.com/SFOpenAnnotation/events/221577503/',\n",
       " {'admin': ['acct:rdhyee@hypothes.is'],\n",
       "  'delete': ['acct:rdhyee@hypothes.is'],\n",
       "  'read': ['group:__world__'],\n",
       "  'update': ['acct:rdhyee@hypothes.is']},\n",
       " 'acct:rdhyee@hypothes.is',\n",
       " '00000000-0000-0000-0000-000000000000')"
      ]
     },
     "execution_count": 17,
     "metadata": {},
     "output_type": "execute_result"
    }
   ],
   "source": [
    "a0 = rows['rows'][0]\n",
    "(a0['id'], a0['created'], a0['updated'], a0['uri'], a0['permissions'], a0['user'], a0['consumer'])"
   ]
  },
  {
   "cell_type": "code",
   "execution_count": 18,
   "metadata": {
    "collapsed": false
   },
   "outputs": [
    {
     "data": {
      "text/plain": [
       "dict_keys(['id', 'text', 'user', 'updated', 'uri', 'created', 'permissions', 'consumer', 'tags', 'document', 'target'])"
      ]
     },
     "execution_count": 18,
     "metadata": {},
     "output_type": "execute_result"
    }
   ],
   "source": [
    "# for the annotation for the meetup\n",
    "\n",
    "a0.keys()"
   ]
  },
  {
   "cell_type": "code",
   "execution_count": 20,
   "metadata": {
    "collapsed": false
   },
   "outputs": [
    {
     "data": {
      "text/plain": [
       "{'dc': {},\n",
       " 'eprints': {},\n",
       " 'facebook': {'country-name': ['us'],\n",
       "  'image': ['http://photos4.meetupstatic.com/photos/event/9/6/b/6/highres_216098582.jpeg'],\n",
       "  'latitude': ['37.79'],\n",
       "  'locality': ['San Francisco'],\n",
       "  'longitude': ['-122.4'],\n",
       "  'postal-code': ['94105'],\n",
       "  'region': ['CA'],\n",
       "  'site_name': ['Meetup'],\n",
       "  'title': ['SF Open Annotation Meetup'],\n",
       "  'type': ['activity']},\n",
       " 'highwire': {},\n",
       " 'link': [{'href': 'https://via.hypothes.is/http://www.meetup.com/SFOpenAnnotation/events/221577503/'},\n",
       "  {'href': 'http://www.meetup.com/SFOpenAnnotation/events/221577503/',\n",
       "   'rel': 'canonical',\n",
       "   'type': ''},\n",
       "  {'href': 'http://www.meetup.com/SFOpenAnnotation/events/221577503/',\n",
       "   'rel': 'canonical',\n",
       "   'type': ''}],\n",
       " 'prism': {},\n",
       " 'title': 'SF Open Annotation Meetup',\n",
       " 'twitter': {'app:id:googleplay': ['com.meetup'],\n",
       "  'app:id:iphone': ['375990038'],\n",
       "  'app:name:googleplay': ['Meetup'],\n",
       "  'app:name:iphone': ['Meetup'],\n",
       "  'app:url:googleplay': ['http://www.meetup.com/SFOpenAnnotation/events/221577503/'],\n",
       "  'app:url:iphone': ['meetup://events/221577503'],\n",
       "  'card': [''],\n",
       "  'description': [\"If you've got an annotation project—no matter what technology you're using!—we'd love to have you join us on April 25th &amp; 26th at the Fort Mason Center.\\nIf you've got an annotation project and are\"],\n",
       "  'site': [''],\n",
       "  'url': ['http://www.meetup.com/SFOpenAnnotation/events/221577503/']}}"
      ]
     },
     "execution_count": 20,
     "metadata": {},
     "output_type": "execute_result"
    }
   ],
   "source": [
    "a0['document']"
   ]
  },
  {
   "cell_type": "code",
   "execution_count": 19,
   "metadata": {
    "collapsed": false
   },
   "outputs": [
    {
     "data": {
      "text/plain": [
       "[{'pos': {'height': 41, 'top': 679.1875},\n",
       "  'selector': [{'endContainer': '/div[3]/div[1]/div[2]/div[1]/div[1]/div[1]/div[1]/div[1]/div[3]/ul[1]/li[3]/div[1]/p[1]',\n",
       "    'endOffset': 152,\n",
       "    'startContainer': '/div[3]/div[1]/div[2]/div[1]/div[1]/div[1]/div[1]/div[1]/div[3]/ul[1]/li[3]/div[1]/p[1]',\n",
       "    'startOffset': 0,\n",
       "    'type': 'RangeSelector'},\n",
       "   {'exact': \"If you've got an annotation project—no matter what technology you're using!—we'd love to have you join us on April 25th & 26th at the Fort Mason Center.\",\n",
       "    'type': 'TextQuoteSelector'},\n",
       "   {'type': 'FragmentSelector', 'value': ''}],\n",
       "  'source': 'https://via.hypothes.is/http://www.meetup.com/SFOpenAnnotation/events/221577503/'}]"
      ]
     },
     "execution_count": 19,
     "metadata": {},
     "output_type": "execute_result"
    }
   ],
   "source": [
    "a0['target']"
   ]
  },
  {
   "cell_type": "code",
   "execution_count": null,
   "metadata": {
    "collapsed": true
   },
   "outputs": [],
   "source": []
  }
 ],
 "metadata": {
  "kernelspec": {
   "display_name": "Python 3",
   "language": "python",
   "name": "python3"
  },
  "language_info": {
   "codemirror_mode": {
    "name": "ipython",
    "version": 3
   },
   "file_extension": ".py",
   "mimetype": "text/x-python",
   "name": "python",
   "nbconvert_exporter": "python",
   "pygments_lexer": "ipython3",
   "version": "3.4.3"
  }
 },
 "nbformat": 4,
 "nbformat_minor": 0
}
